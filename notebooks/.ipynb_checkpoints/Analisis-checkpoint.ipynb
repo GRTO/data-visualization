{
 "cells": [
  {
   "cell_type": "markdown",
   "metadata": {},
   "source": [
    "# **Librerias necesarias**"
   ]
  },
  {
   "cell_type": "code",
   "execution_count": 2,
   "metadata": {},
   "outputs": [],
   "source": [
    "import numpy as np\n",
    "import pandas as pd\n",
    "import matplotlib.pyplot as plt"
   ]
  },
  {
   "cell_type": "markdown",
   "metadata": {},
   "source": [
    "# **Obtención de los datos**"
   ]
  },
  {
   "cell_type": "code",
   "execution_count": 3,
   "metadata": {},
   "outputs": [],
   "source": [
    "dataset=pd.read_csv('transacDC2017.csv/transacDC2017.csv',sep=';')"
   ]
  },
  {
   "cell_type": "code",
   "execution_count": 4,
   "metadata": {},
   "outputs": [
    {
     "data": {
      "text/html": [
       "<div>\n",
       "<style scoped>\n",
       "    .dataframe tbody tr th:only-of-type {\n",
       "        vertical-align: middle;\n",
       "    }\n",
       "\n",
       "    .dataframe tbody tr th {\n",
       "        vertical-align: top;\n",
       "    }\n",
       "\n",
       "    .dataframe thead th {\n",
       "        text-align: right;\n",
       "    }\n",
       "</style>\n",
       "<table border=\"1\" class=\"dataframe\">\n",
       "  <thead>\n",
       "    <tr style=\"text-align: right;\">\n",
       "      <th></th>\n",
       "      <th>client_id</th>\n",
       "      <th>date</th>\n",
       "      <th>mcc</th>\n",
       "      <th>country_code</th>\n",
       "      <th>amount_sol</th>\n",
       "      <th>amount_usd</th>\n",
       "      <th>nb_transaction</th>\n",
       "      <th>client_age</th>\n",
       "      <th>client_gender</th>\n",
       "      <th>debit_type</th>\n",
       "      <th>merchant_id</th>\n",
       "      <th>merchant_name</th>\n",
       "      <th>merchant_type</th>\n",
       "      <th>merchant_geoid</th>\n",
       "      <th>merchant_departement</th>\n",
       "      <th>merchant_province</th>\n",
       "      <th>merchant_district</th>\n",
       "      <th>merchant_lon</th>\n",
       "      <th>merchant_lat</th>\n",
       "    </tr>\n",
       "  </thead>\n",
       "  <tbody>\n",
       "    <tr>\n",
       "      <th>0</th>\n",
       "      <td>PJ1MmUtnJoo=</td>\n",
       "      <td>2016-06-01 20:22:13+02</td>\n",
       "      <td>5533</td>\n",
       "      <td>PE</td>\n",
       "      <td>230.0</td>\n",
       "      <td>70.919580</td>\n",
       "      <td>1</td>\n",
       "      <td>69.0</td>\n",
       "      <td>M</td>\n",
       "      <td>TD</td>\n",
       "      <td>52438230</td>\n",
       "      <td>IZA MOTORS PERU SAC</td>\n",
       "      <td>Venta de repuestos para vehiculos</td>\n",
       "      <td>150132</td>\n",
       "      <td>LIMA</td>\n",
       "      <td>LIMA</td>\n",
       "      <td>San Juan De Luriganc</td>\n",
       "      <td>-11.979603</td>\n",
       "      <td>-77.004344</td>\n",
       "    </tr>\n",
       "    <tr>\n",
       "      <th>1</th>\n",
       "      <td>AQhFrCiSF78=</td>\n",
       "      <td>2016-09-13 23:10:35+02</td>\n",
       "      <td>5533</td>\n",
       "      <td>PE</td>\n",
       "      <td>14.0</td>\n",
       "      <td>4.316844</td>\n",
       "      <td>1</td>\n",
       "      <td>43.0</td>\n",
       "      <td>F</td>\n",
       "      <td>TD</td>\n",
       "      <td>52438230</td>\n",
       "      <td>IZA MOTORS PERU SAC</td>\n",
       "      <td>Venta de repuestos para vehiculos</td>\n",
       "      <td>150132</td>\n",
       "      <td>LIMA</td>\n",
       "      <td>LIMA</td>\n",
       "      <td>San Juan De Luriganc</td>\n",
       "      <td>-11.979603</td>\n",
       "      <td>-77.004344</td>\n",
       "    </tr>\n",
       "    <tr>\n",
       "      <th>2</th>\n",
       "      <td>aBM/ALhZK9k=</td>\n",
       "      <td>2017-04-13 16:21:15+02</td>\n",
       "      <td>5533</td>\n",
       "      <td>PE</td>\n",
       "      <td>345.0</td>\n",
       "      <td>106.379370</td>\n",
       "      <td>1</td>\n",
       "      <td>24.0</td>\n",
       "      <td>M</td>\n",
       "      <td>TD</td>\n",
       "      <td>52438230</td>\n",
       "      <td>IZA MOTORS PERU SAC</td>\n",
       "      <td>Venta de repuestos para vehiculos</td>\n",
       "      <td>150132</td>\n",
       "      <td>LIMA</td>\n",
       "      <td>LIMA</td>\n",
       "      <td>San Juan De Luriganc</td>\n",
       "      <td>-11.979603</td>\n",
       "      <td>-77.004344</td>\n",
       "    </tr>\n",
       "    <tr>\n",
       "      <th>3</th>\n",
       "      <td>8f3H6sKptnU=</td>\n",
       "      <td>2017-04-04 18:17:22+02</td>\n",
       "      <td>5533</td>\n",
       "      <td>PE</td>\n",
       "      <td>460.0</td>\n",
       "      <td>141.839160</td>\n",
       "      <td>1</td>\n",
       "      <td>70.0</td>\n",
       "      <td>M</td>\n",
       "      <td>TD</td>\n",
       "      <td>52438230</td>\n",
       "      <td>IZA MOTORS PERU SAC</td>\n",
       "      <td>Venta de repuestos para vehiculos</td>\n",
       "      <td>150132</td>\n",
       "      <td>LIMA</td>\n",
       "      <td>LIMA</td>\n",
       "      <td>San Juan De Luriganc</td>\n",
       "      <td>-11.979603</td>\n",
       "      <td>-77.004344</td>\n",
       "    </tr>\n",
       "    <tr>\n",
       "      <th>4</th>\n",
       "      <td>WoNB5LNBqHw=</td>\n",
       "      <td>2016-11-27 13:26:51+01</td>\n",
       "      <td>5533</td>\n",
       "      <td>PE</td>\n",
       "      <td>12.0</td>\n",
       "      <td>3.700152</td>\n",
       "      <td>1</td>\n",
       "      <td>38.0</td>\n",
       "      <td>M</td>\n",
       "      <td>TD</td>\n",
       "      <td>52438230</td>\n",
       "      <td>IZA MOTORS PERU SAC</td>\n",
       "      <td>Venta de repuestos para vehiculos</td>\n",
       "      <td>150132</td>\n",
       "      <td>LIMA</td>\n",
       "      <td>LIMA</td>\n",
       "      <td>San Juan De Luriganc</td>\n",
       "      <td>-11.979603</td>\n",
       "      <td>-77.004344</td>\n",
       "    </tr>\n",
       "  </tbody>\n",
       "</table>\n",
       "</div>"
      ],
      "text/plain": [
       "      client_id                    date   mcc country_code  amount_sol  \\\n",
       "0  PJ1MmUtnJoo=  2016-06-01 20:22:13+02  5533           PE       230.0   \n",
       "1  AQhFrCiSF78=  2016-09-13 23:10:35+02  5533           PE        14.0   \n",
       "2  aBM/ALhZK9k=  2017-04-13 16:21:15+02  5533           PE       345.0   \n",
       "3  8f3H6sKptnU=  2017-04-04 18:17:22+02  5533           PE       460.0   \n",
       "4  WoNB5LNBqHw=  2016-11-27 13:26:51+01  5533           PE        12.0   \n",
       "\n",
       "   amount_usd  nb_transaction  client_age client_gender debit_type  \\\n",
       "0   70.919580               1        69.0             M         TD   \n",
       "1    4.316844               1        43.0             F         TD   \n",
       "2  106.379370               1        24.0             M         TD   \n",
       "3  141.839160               1        70.0             M         TD   \n",
       "4    3.700152               1        38.0             M         TD   \n",
       "\n",
       "   merchant_id        merchant_name                      merchant_type  \\\n",
       "0     52438230  IZA MOTORS PERU SAC  Venta de repuestos para vehiculos   \n",
       "1     52438230  IZA MOTORS PERU SAC  Venta de repuestos para vehiculos   \n",
       "2     52438230  IZA MOTORS PERU SAC  Venta de repuestos para vehiculos   \n",
       "3     52438230  IZA MOTORS PERU SAC  Venta de repuestos para vehiculos   \n",
       "4     52438230  IZA MOTORS PERU SAC  Venta de repuestos para vehiculos   \n",
       "\n",
       "   merchant_geoid merchant_departement merchant_province  \\\n",
       "0          150132                 LIMA              LIMA   \n",
       "1          150132                 LIMA              LIMA   \n",
       "2          150132                 LIMA              LIMA   \n",
       "3          150132                 LIMA              LIMA   \n",
       "4          150132                 LIMA              LIMA   \n",
       "\n",
       "      merchant_district  merchant_lon  merchant_lat  \n",
       "0  San Juan De Luriganc    -11.979603    -77.004344  \n",
       "1  San Juan De Luriganc    -11.979603    -77.004344  \n",
       "2  San Juan De Luriganc    -11.979603    -77.004344  \n",
       "3  San Juan De Luriganc    -11.979603    -77.004344  \n",
       "4  San Juan De Luriganc    -11.979603    -77.004344  "
      ]
     },
     "execution_count": 4,
     "metadata": {},
     "output_type": "execute_result"
    }
   ],
   "source": [
    "dataset.head()"
   ]
  },
  {
   "cell_type": "code",
   "execution_count": 5,
   "metadata": {},
   "outputs": [
    {
     "data": {
      "text/plain": [
       "(300000, 19)"
      ]
     },
     "execution_count": 5,
     "metadata": {},
     "output_type": "execute_result"
    }
   ],
   "source": [
    "dataset.shape"
   ]
  },
  {
   "cell_type": "markdown",
   "metadata": {},
   "source": [
    "# **Análisis describiendo los datos**"
   ]
  },
  {
   "cell_type": "markdown",
   "metadata": {},
   "source": [
    "#### **- Primeras impresiones**"
   ]
  },
  {
   "cell_type": "markdown",
   "metadata": {},
   "source": [
    "Relación entre **mcc:Código del rubro del comercio** y **merchant_id: ID del comercio** -> merchant_id pertenece a mcc, individuo y grupo."
   ]
  },
  {
   "cell_type": "markdown",
   "metadata": {},
   "source": [
    "Todas las columnas que empiezan con **merchant** son datos referidos al propio comercio, se puede utilizar la columna **merchant_ID** como si se realizaría una consulta a una base de datos ya que es el 'primary key'."
   ]
  },
  {
   "cell_type": "markdown",
   "metadata": {},
   "source": [
    "Existen columnas que no serán útiles como **country_code** porque el área de estudio es en Lima,Perú y no existe variación en los valores de estas columnas."
   ]
  },
  {
   "cell_type": "markdown",
   "metadata": {},
   "source": [
    "Existen **300000 filas** y son sobre **130000 clientes** aproximadamente."
   ]
  },
  {
   "cell_type": "markdown",
   "metadata": {},
   "source": [
    "#### **- Columnas del dataset**"
   ]
  },
  {
   "cell_type": "code",
   "execution_count": 6,
   "metadata": {},
   "outputs": [
    {
     "name": "stdout",
     "output_type": "stream",
     "text": [
      "['client_id', 'date', 'mcc', 'country_code', 'amount_sol', 'amount_usd', 'nb_transaction', 'client_age', 'client_gender', 'debit_type', 'merchant_id', 'merchant_name', 'merchant_type', 'merchant_geoid', 'merchant_departement', 'merchant_province', 'merchant_district', 'merchant_lon', 'merchant_lat']\n"
     ]
    }
   ],
   "source": [
    "columns=list(dataset.columns)\n",
    "print(columns)"
   ]
  },
  {
   "cell_type": "markdown",
   "metadata": {},
   "source": [
    "#### **- Columnas numéricas**"
   ]
  },
  {
   "cell_type": "code",
   "execution_count": 7,
   "metadata": {},
   "outputs": [
    {
     "name": "stdout",
     "output_type": "stream",
     "text": [
      "['mcc', 'amount_sol', 'amount_usd', 'nb_transaction', 'client_age', 'merchant_id', 'merchant_geoid', 'merchant_lon', 'merchant_lat']\n"
     ]
    }
   ],
   "source": [
    "columns_num=list(dataset._get_numeric_data().columns)\n",
    "print(columns_num)"
   ]
  },
  {
   "cell_type": "markdown",
   "metadata": {},
   "source": [
    "#### **- Columnas categóricas**"
   ]
  },
  {
   "cell_type": "code",
   "execution_count": 8,
   "metadata": {},
   "outputs": [
    {
     "name": "stdout",
     "output_type": "stream",
     "text": [
      "['merchant_type', 'date', 'merchant_district', 'country_code', 'client_gender', 'client_id', 'merchant_departement', 'merchant_province', 'merchant_name', 'debit_type']\n"
     ]
    }
   ],
   "source": [
    "columns_cat=list(set(columns) - set(columns_num))\n",
    "print(columns_cat)"
   ]
  },
  {
   "cell_type": "markdown",
   "metadata": {},
   "source": [
    "#### **- Columnas mixtas**"
   ]
  },
  {
   "cell_type": "markdown",
   "metadata": {},
   "source": [
    "Columnas candidatas para realizar feature engineering"
   ]
  },
  {
   "cell_type": "markdown",
   "metadata": {},
   "source": [
    "columns_mix=['date']"
   ]
  },
  {
   "cell_type": "markdown",
   "metadata": {},
   "source": [
    "#### **- Columnas que puedan contener errores tipográficos**"
   ]
  },
  {
   "cell_type": "markdown",
   "metadata": {},
   "source": [
    "Es posible que **client_id** contenga errores de tipeo, también es una columna mixta pero con poca probabilidad de separamiento. "
   ]
  },
  {
   "cell_type": "markdown",
   "metadata": {},
   "source": [
    "#### **- Columnas que contienen valores blancos, vacíos o nulos**"
   ]
  },
  {
   "cell_type": "markdown",
   "metadata": {},
   "source": [
    "**Cantidad de datos vacíos por columna**"
   ]
  },
  {
   "cell_type": "code",
   "execution_count": 17,
   "metadata": {},
   "outputs": [
    {
     "data": {
      "text/plain": [
       "client_id                   0\n",
       "date                        0\n",
       "mcc                         0\n",
       "country_code                0\n",
       "amount_sol                  0\n",
       "amount_usd                  0\n",
       "nb_transaction              0\n",
       "client_age              49354\n",
       "client_gender           49355\n",
       "debit_type                  0\n",
       "merchant_id                 0\n",
       "merchant_name               0\n",
       "merchant_type               0\n",
       "merchant_geoid              0\n",
       "merchant_departement        0\n",
       "merchant_province           0\n",
       "merchant_district           0\n",
       "merchant_lon            10017\n",
       "merchant_lat            10017\n",
       "dtype: int64"
      ]
     },
     "execution_count": 17,
     "metadata": {},
     "output_type": "execute_result"
    }
   ],
   "source": [
    "dataset.isna().sum()"
   ]
  },
  {
   "cell_type": "markdown",
   "metadata": {},
   "source": [
    "**Porcentaje de datos vacios por columna**"
   ]
  },
  {
   "cell_type": "code",
   "execution_count": 19,
   "metadata": {},
   "outputs": [
    {
     "data": {
      "text/plain": [
       "client_id                0.000000\n",
       "date                     0.000000\n",
       "mcc                      0.000000\n",
       "country_code             0.000000\n",
       "amount_sol               0.000000\n",
       "amount_usd               0.000000\n",
       "nb_transaction           0.000000\n",
       "client_age              16.451333\n",
       "client_gender           16.451667\n",
       "debit_type               0.000000\n",
       "merchant_id              0.000000\n",
       "merchant_name            0.000000\n",
       "merchant_type            0.000000\n",
       "merchant_geoid           0.000000\n",
       "merchant_departement     0.000000\n",
       "merchant_province        0.000000\n",
       "merchant_district        0.000000\n",
       "merchant_lon             3.339000\n",
       "merchant_lat             3.339000\n",
       "dtype: float64"
      ]
     },
     "execution_count": 19,
     "metadata": {},
     "output_type": "execute_result"
    }
   ],
   "source": [
    "(dataset.isnull().sum()/len(dataset))*100"
   ]
  },
  {
   "cell_type": "markdown",
   "metadata": {},
   "source": [
    "#### **Suposiciones basadas en el análisis previo**"
   ]
  },
  {
   "cell_type": "markdown",
   "metadata": {},
   "source": [
    "- Buscar algún método para la imputación de los datos faltantes.\n",
    "- Las columnas **mcc,merchant_id,merchant_geoid** son numéricas actualmente, posiblemente deban ser transformadas a categóricas.\n",
    "- Se debe aplicar feature engineering a la columna **date** y separarla para obtener más niveles temporales de granularidad."
   ]
  },
  {
   "cell_type": "markdown",
   "metadata": {},
   "source": [
    "#### **Distribución numérica**"
   ]
  },
  {
   "cell_type": "code",
   "execution_count": 61,
   "metadata": {},
   "outputs": [
    {
     "data": {
      "text/html": [
       "<div>\n",
       "<style scoped>\n",
       "    .dataframe tbody tr th:only-of-type {\n",
       "        vertical-align: middle;\n",
       "    }\n",
       "\n",
       "    .dataframe tbody tr th {\n",
       "        vertical-align: top;\n",
       "    }\n",
       "\n",
       "    .dataframe thead th {\n",
       "        text-align: right;\n",
       "    }\n",
       "</style>\n",
       "<table border=\"1\" class=\"dataframe\">\n",
       "  <thead>\n",
       "    <tr style=\"text-align: right;\">\n",
       "      <th></th>\n",
       "      <th>count</th>\n",
       "      <th>mean</th>\n",
       "      <th>std</th>\n",
       "      <th>min</th>\n",
       "      <th>25%</th>\n",
       "      <th>50%</th>\n",
       "      <th>75%</th>\n",
       "      <th>max</th>\n",
       "    </tr>\n",
       "  </thead>\n",
       "  <tbody>\n",
       "    <tr>\n",
       "      <th>mcc</th>\n",
       "      <td>300000.0</td>\n",
       "      <td>5.958716e+03</td>\n",
       "      <td>7.655722e+02</td>\n",
       "      <td>1.520000e+03</td>\n",
       "      <td>5.541000e+03</td>\n",
       "      <td>5.812000e+03</td>\n",
       "      <td>5.912000e+03</td>\n",
       "      <td>9.311000e+03</td>\n",
       "    </tr>\n",
       "    <tr>\n",
       "      <th>amount_sol</th>\n",
       "      <td>300000.0</td>\n",
       "      <td>1.029805e+02</td>\n",
       "      <td>4.929974e+02</td>\n",
       "      <td>5.000000e-02</td>\n",
       "      <td>1.980000e+01</td>\n",
       "      <td>3.970000e+01</td>\n",
       "      <td>9.050000e+01</td>\n",
       "      <td>8.044008e+04</td>\n",
       "    </tr>\n",
       "    <tr>\n",
       "      <th>amount_usd</th>\n",
       "      <td>300000.0</td>\n",
       "      <td>3.175364e+01</td>\n",
       "      <td>1.520138e+02</td>\n",
       "      <td>1.541730e-02</td>\n",
       "      <td>6.105251e+00</td>\n",
       "      <td>1.224134e+01</td>\n",
       "      <td>2.790531e+01</td>\n",
       "      <td>2.480338e+04</td>\n",
       "    </tr>\n",
       "    <tr>\n",
       "      <th>nb_transaction</th>\n",
       "      <td>300000.0</td>\n",
       "      <td>1.000040e+00</td>\n",
       "      <td>6.324439e-03</td>\n",
       "      <td>1.000000e+00</td>\n",
       "      <td>1.000000e+00</td>\n",
       "      <td>1.000000e+00</td>\n",
       "      <td>1.000000e+00</td>\n",
       "      <td>2.000000e+00</td>\n",
       "    </tr>\n",
       "    <tr>\n",
       "      <th>client_age</th>\n",
       "      <td>250646.0</td>\n",
       "      <td>3.706679e+01</td>\n",
       "      <td>1.168546e+01</td>\n",
       "      <td>1.900000e+01</td>\n",
       "      <td>2.800000e+01</td>\n",
       "      <td>3.500000e+01</td>\n",
       "      <td>4.400000e+01</td>\n",
       "      <td>9.800000e+01</td>\n",
       "    </tr>\n",
       "    <tr>\n",
       "      <th>merchant_id</th>\n",
       "      <td>300000.0</td>\n",
       "      <td>4.829421e+07</td>\n",
       "      <td>2.003615e+07</td>\n",
       "      <td>1.000306e+07</td>\n",
       "      <td>3.762892e+07</td>\n",
       "      <td>4.995919e+07</td>\n",
       "      <td>5.308110e+07</td>\n",
       "      <td>9.999039e+07</td>\n",
       "    </tr>\n",
       "    <tr>\n",
       "      <th>merchant_geoid</th>\n",
       "      <td>300000.0</td>\n",
       "      <td>1.501310e+05</td>\n",
       "      <td>3.864205e+00</td>\n",
       "      <td>1.501160e+05</td>\n",
       "      <td>1.501320e+05</td>\n",
       "      <td>1.501320e+05</td>\n",
       "      <td>1.501320e+05</td>\n",
       "      <td>1.501320e+05</td>\n",
       "    </tr>\n",
       "    <tr>\n",
       "      <th>merchant_lon</th>\n",
       "      <td>289983.0</td>\n",
       "      <td>-1.201068e+01</td>\n",
       "      <td>7.805935e-02</td>\n",
       "      <td>-1.639941e+01</td>\n",
       "      <td>-1.202542e+01</td>\n",
       "      <td>-1.200702e+01</td>\n",
       "      <td>-1.199721e+01</td>\n",
       "      <td>-1.193516e+01</td>\n",
       "    </tr>\n",
       "    <tr>\n",
       "      <th>merchant_lat</th>\n",
       "      <td>289983.0</td>\n",
       "      <td>-7.700256e+01</td>\n",
       "      <td>9.005327e-02</td>\n",
       "      <td>-7.707417e+01</td>\n",
       "      <td>-7.700827e+01</td>\n",
       "      <td>-7.700555e+01</td>\n",
       "      <td>-7.699922e+01</td>\n",
       "      <td>-7.153394e+01</td>\n",
       "    </tr>\n",
       "  </tbody>\n",
       "</table>\n",
       "</div>"
      ],
      "text/plain": [
       "                   count          mean           std           min  \\\n",
       "mcc             300000.0  5.958716e+03  7.655722e+02  1.520000e+03   \n",
       "amount_sol      300000.0  1.029805e+02  4.929974e+02  5.000000e-02   \n",
       "amount_usd      300000.0  3.175364e+01  1.520138e+02  1.541730e-02   \n",
       "nb_transaction  300000.0  1.000040e+00  6.324439e-03  1.000000e+00   \n",
       "client_age      250646.0  3.706679e+01  1.168546e+01  1.900000e+01   \n",
       "merchant_id     300000.0  4.829421e+07  2.003615e+07  1.000306e+07   \n",
       "merchant_geoid  300000.0  1.501310e+05  3.864205e+00  1.501160e+05   \n",
       "merchant_lon    289983.0 -1.201068e+01  7.805935e-02 -1.639941e+01   \n",
       "merchant_lat    289983.0 -7.700256e+01  9.005327e-02 -7.707417e+01   \n",
       "\n",
       "                         25%           50%           75%           max  \n",
       "mcc             5.541000e+03  5.812000e+03  5.912000e+03  9.311000e+03  \n",
       "amount_sol      1.980000e+01  3.970000e+01  9.050000e+01  8.044008e+04  \n",
       "amount_usd      6.105251e+00  1.224134e+01  2.790531e+01  2.480338e+04  \n",
       "nb_transaction  1.000000e+00  1.000000e+00  1.000000e+00  2.000000e+00  \n",
       "client_age      2.800000e+01  3.500000e+01  4.400000e+01  9.800000e+01  \n",
       "merchant_id     3.762892e+07  4.995919e+07  5.308110e+07  9.999039e+07  \n",
       "merchant_geoid  1.501320e+05  1.501320e+05  1.501320e+05  1.501320e+05  \n",
       "merchant_lon   -1.202542e+01 -1.200702e+01 -1.199721e+01 -1.193516e+01  \n",
       "merchant_lat   -7.700827e+01 -7.700555e+01 -7.699922e+01 -7.153394e+01  "
      ]
     },
     "execution_count": 61,
     "metadata": {},
     "output_type": "execute_result"
    }
   ],
   "source": [
    "dataset.describe().T"
   ]
  },
  {
   "cell_type": "markdown",
   "metadata": {},
   "source": [
    "- La **cantidad de transacciones (nb_transaction)** es en su mayoría 1.\n",
    "- Posiblemente deban eliminarse las columnas **country_code,merchant_departement,merchant_province** del análisis porque solo presentan un valor."
   ]
  },
  {
   "cell_type": "code",
   "execution_count": 11,
   "metadata": {},
   "outputs": [
    {
     "name": "stdout",
     "output_type": "stream",
     "text": [
      "<class 'pandas.core.frame.DataFrame'>\n",
      "RangeIndex: 300000 entries, 0 to 299999\n",
      "Data columns (total 19 columns):\n",
      "client_id               300000 non-null object\n",
      "date                    300000 non-null object\n",
      "mcc                     300000 non-null int64\n",
      "country_code            300000 non-null object\n",
      "amount_sol              300000 non-null float64\n",
      "amount_usd              300000 non-null float64\n",
      "nb_transaction          300000 non-null int64\n",
      "client_age              250646 non-null float64\n",
      "client_gender           250645 non-null object\n",
      "debit_type              300000 non-null object\n",
      "merchant_id             300000 non-null int64\n",
      "merchant_name           300000 non-null object\n",
      "merchant_type           300000 non-null object\n",
      "merchant_geoid          300000 non-null int64\n",
      "merchant_departement    300000 non-null object\n",
      "merchant_province       300000 non-null object\n",
      "merchant_district       300000 non-null object\n",
      "merchant_lon            289983 non-null float64\n",
      "merchant_lat            289983 non-null float64\n",
      "dtypes: float64(5), int64(4), object(10)\n",
      "memory usage: 43.5+ MB\n"
     ]
    }
   ],
   "source": [
    "dataset.info()"
   ]
  },
  {
   "cell_type": "code",
   "execution_count": 12,
   "metadata": {},
   "outputs": [
    {
     "data": {
      "text/html": [
       "<div>\n",
       "<style scoped>\n",
       "    .dataframe tbody tr th:only-of-type {\n",
       "        vertical-align: middle;\n",
       "    }\n",
       "\n",
       "    .dataframe tbody tr th {\n",
       "        vertical-align: top;\n",
       "    }\n",
       "\n",
       "    .dataframe thead th {\n",
       "        text-align: right;\n",
       "    }\n",
       "</style>\n",
       "<table border=\"1\" class=\"dataframe\">\n",
       "  <thead>\n",
       "    <tr style=\"text-align: right;\">\n",
       "      <th></th>\n",
       "      <th>client_id</th>\n",
       "      <th>date</th>\n",
       "      <th>mcc</th>\n",
       "      <th>country_code</th>\n",
       "      <th>amount_sol</th>\n",
       "      <th>amount_usd</th>\n",
       "      <th>nb_transaction</th>\n",
       "      <th>client_age</th>\n",
       "      <th>client_gender</th>\n",
       "      <th>debit_type</th>\n",
       "      <th>merchant_id</th>\n",
       "      <th>merchant_name</th>\n",
       "      <th>merchant_type</th>\n",
       "      <th>merchant_geoid</th>\n",
       "      <th>merchant_departement</th>\n",
       "      <th>merchant_province</th>\n",
       "      <th>merchant_district</th>\n",
       "      <th>merchant_lon</th>\n",
       "      <th>merchant_lat</th>\n",
       "    </tr>\n",
       "  </thead>\n",
       "  <tbody>\n",
       "    <tr>\n",
       "      <th>0</th>\n",
       "      <td>PJ1MmUtnJoo=</td>\n",
       "      <td>2016-06-01 20:22:13+02</td>\n",
       "      <td>5533</td>\n",
       "      <td>PE</td>\n",
       "      <td>230.0</td>\n",
       "      <td>70.91958</td>\n",
       "      <td>1</td>\n",
       "      <td>69.0</td>\n",
       "      <td>M</td>\n",
       "      <td>TD</td>\n",
       "      <td>52438230</td>\n",
       "      <td>IZA MOTORS PERU SAC</td>\n",
       "      <td>Venta de repuestos para vehiculos</td>\n",
       "      <td>150132</td>\n",
       "      <td>LIMA</td>\n",
       "      <td>LIMA</td>\n",
       "      <td>San Juan De Luriganc</td>\n",
       "      <td>-11.979603</td>\n",
       "      <td>-77.004344</td>\n",
       "    </tr>\n",
       "  </tbody>\n",
       "</table>\n",
       "</div>"
      ],
      "text/plain": [
       "      client_id                    date   mcc country_code  amount_sol  \\\n",
       "0  PJ1MmUtnJoo=  2016-06-01 20:22:13+02  5533           PE       230.0   \n",
       "\n",
       "   amount_usd  nb_transaction  client_age client_gender debit_type  \\\n",
       "0    70.91958               1        69.0             M         TD   \n",
       "\n",
       "   merchant_id        merchant_name                      merchant_type  \\\n",
       "0     52438230  IZA MOTORS PERU SAC  Venta de repuestos para vehiculos   \n",
       "\n",
       "   merchant_geoid merchant_departement merchant_province  \\\n",
       "0          150132                 LIMA              LIMA   \n",
       "\n",
       "      merchant_district  merchant_lon  merchant_lat  \n",
       "0  San Juan De Luriganc    -11.979603    -77.004344  "
      ]
     },
     "execution_count": 12,
     "metadata": {},
     "output_type": "execute_result"
    }
   ],
   "source": [
    "dataset.head(1)"
   ]
  }
 ],
 "metadata": {
  "kernelspec": {
   "display_name": "Python [conda env:dataScience]",
   "language": "python",
   "name": "conda-env-dataScience-py"
  },
  "language_info": {
   "codemirror_mode": {
    "name": "ipython",
    "version": 3
   },
   "file_extension": ".py",
   "mimetype": "text/x-python",
   "name": "python",
   "nbconvert_exporter": "python",
   "pygments_lexer": "ipython3",
   "version": "3.7.3"
  }
 },
 "nbformat": 4,
 "nbformat_minor": 2
}
